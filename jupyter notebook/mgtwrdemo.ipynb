{
 "cells": [
  {
   "cell_type": "code",
   "execution_count": null,
   "metadata": {},
   "outputs": [],
   "source": [
    "import pandas as pd"
   ]
  },
  {
   "cell_type": "code",
   "execution_count": null,
   "metadata": {},
   "outputs": [],
   "source": [
    "import sys\n",
    "import os\n",
    "\n",
    "# 获取当前的工作目录的上一级目录\n",
    "parent_dir = os.path.dirname(os.getcwd())\n",
    "\n",
    "# 将上一级目录添加到 Python 路径中\n",
    "if parent_dir not in sys.path:\n",
    "    sys.path.insert(0, parent_dir)\n",
    "\n",
    "# 现在你可以导入 mgtwr.sel 了\n",
    "from mgtwr.sel import SearchMGTWRParameter\n",
    "from mgtwr.model import MGTWR\n",
    "import mgtwr\n",
    "print(mgtwr.sel)"
   ]
  },
  {
   "cell_type": "code",
   "execution_count": null,
   "metadata": {},
   "outputs": [],
   "source": [
    "# 定义你的文件路径\n",
    "files = [os.path.join(parent_dir, 'data', f'alldatatable_{i}.csv') for i in range(6)]  # 根据你实际生成的文件数量调整\n",
    "\n",
    "# 读取每个 CSV 文件并将它们合并为一个 DataFrame\n",
    "data = pd.concat((pd.read_csv(f) for f in files))"
   ]
  },
  {
   "cell_type": "code",
   "execution_count": null,
   "metadata": {},
   "outputs": [],
   "source": [
    "coords = data[['xcol', 'ycol']]\n",
    "t = data[['timecol']]\n",
    "X = data[['preliquid','surfwater','glemmerra','anag','presolid','canopystor']]\n",
    "y = data[['GWSA']]"
   ]
  },
  {
   "cell_type": "code",
   "execution_count": null,
   "metadata": {},
   "outputs": [],
   "source": [
    "import cProfile\n",
    "import pstats\n",
    "def test_func():\n",
    "    sel_multi = SearchMGTWRParameter(coords, t, X, y, kernel='exponential', fixed=True,thread=14)\n",
    "    sel_multi.search(multi_bw_min=[0.1], verbose=True, tol_multi=1.0e-4, time_cost=True)\n",
    "    return sel_multi\n",
    "\n",
    "profiler = cProfile.Profile()\n",
    "profiler.enable()\n",
    "\n",
    "sel_multi = None\n",
    "try:\n",
    "    sel_multi = test_func()\n",
    "except KeyboardInterrupt:\n",
    "    pass\n",
    "finally:\n",
    "    profiler.disable()\n",
    "    stats = pstats.Stats(profiler).sort_stats('tottime')\n",
    "    stats.print_stats()\n",
    "    "
   ]
  },
  {
   "cell_type": "code",
   "execution_count": null,
   "metadata": {},
   "outputs": [],
   "source": [
    "stats = pstats.Stats(profiler).sort_stats('cumtime')\n",
    "stats.print_stats()"
   ]
  },
  {
   "cell_type": "code",
   "execution_count": null,
   "metadata": {},
   "outputs": [],
   "source": [
    "mgtwr = MGTWR(coords, t, X, y, sel_multi, kernel='gaussian', fixed=True).fit()\n",
    "print(mgtwr.R2)"
   ]
  },
  {
   "cell_type": "code",
   "execution_count": null,
   "metadata": {},
   "outputs": [],
   "source": [
    "import os\n",
    "print(os.getcwd())"
   ]
  },
  {
   "cell_type": "code",
   "execution_count": null,
   "metadata": {},
   "outputs": [],
   "source": [
    "import pickle\n",
    "\n",
    "# 保存变量\n",
    "with open('mgtwr.pkl', 'wb') as f:\n",
    "    pickle.dump(mgtwr, f)\n",
    "\n",
    "\n",
    "# 加载变量\n",
    "with open('mgtwr.pkl', 'rb') as f:\n",
    "    loaded_mgtwr = pickle.load(f)\n",
    "\n",
    "# 现在 loaded_mgtwr 和 mgtwr 是相同的\n",
    "print(loaded_mgtwr.R2)"
   ]
  }
 ],
 "metadata": {
  "kernelspec": {
   "display_name": "Python 3",
   "language": "python",
   "name": "python3"
  },
  "language_info": {
   "codemirror_mode": {
    "name": "ipython",
    "version": 3
   },
   "file_extension": ".py",
   "mimetype": "text/x-python",
   "name": "python",
   "nbconvert_exporter": "python",
   "pygments_lexer": "ipython3",
   "version": "3.11.4"
  }
 },
 "nbformat": 4,
 "nbformat_minor": 2
}
